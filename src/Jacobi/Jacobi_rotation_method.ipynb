{
 "cells": [
  {
   "cell_type": "code",
   "execution_count": 1,
   "id": "6263cbe5-308d-42b5-92b7-a33a6062c640",
   "metadata": {},
   "outputs": [],
   "source": [
    "import numpy as np\n",
    "\n",
    "def jacobi_rotation_method(A, tolerance=1e-10, max_iterations=100):\n",
    "    A = np.array(A, dtype=float)\n",
    "    n = A.shape[0]\n",
    "    assert A.shape[1] == n, \"Input matrix must be square.\"\n",
    "    assert np.allclose(A, A.T, atol=tolerance), \"Matrix must be symmetric.\"\n",
    "\n",
    "    eigenvectors = np.eye(n)\n",
    "    \n",
    "    for iteration in range(max_iterations):\n",
    "        # Find the indices of the largest off-diagonal element in A\n",
    "        off_diag_abs = np.abs(np.triu(A, 1))  # Get the upper triangle without the diagonal\n",
    "        p, q = np.unravel_index(np.argmax(off_diag_abs), off_diag_abs.shape)\n",
    "        off_diag_max = A[p, q]\n",
    "\n",
    "        # Break if the largest off-diagonal element is below the tolerance\n",
    "        if abs(off_diag_max) < tolerance:\n",
    "            break\n",
    "        \n",
    "        # Compute the rotation angle\n",
    "        theta = 0.5 * np.arctan2(2 * A[p, q], A[p, p] - A[q, q])\n",
    "        c, s = np.cos(theta), np.sin(theta)\n",
    "\n",
    "        # Construct the rotation matrix J\n",
    "        J = np.eye(n)\n",
    "        J[p, p], J[q, q] = c, c\n",
    "        J[p, q], J[q, p] = s, -s\n",
    "\n",
    "        # Apply the rotation\n",
    "        A = J.T @ A @ J\n",
    "        eigenvectors = eigenvectors @ J\n",
    "\n",
    "    # The eigenvalues are the diagonal elements of A\n",
    "    eigenvalues = np.diag(A)\n",
    "    return eigenvalues, eigenvectors\n"
   ]
  },
  {
   "cell_type": "code",
   "execution_count": 2,
   "id": "4e28a295-3b84-490b-b298-fe20a1cfb703",
   "metadata": {},
   "outputs": [
    {
     "name": "stdout",
     "output_type": "stream",
     "text": [
      "Eigenvalues:\n",
      "[-0.02865373 -1.38502999  1.41368372]\n",
      "\n",
      "Eigenvectors:\n",
      "[[ 0.76605339  0.4002169   0.50297977]\n",
      " [-0.63360936  0.60185934  0.48611164]\n",
      " [-0.10817298 -0.69108015  0.71463755]]\n"
     ]
    }
   ],
   "source": [
    "# Example usage\n",
    "if __name__ == \"__main__\":\n",
    "    # Define a symmetric matrix\n",
    "    A = np.array([[0, 0, 1 ],\n",
    "                  [0, 0, 1 ],\n",
    "                  [1, 1, 0 ]\n",
    "                 ])\n",
    "\n",
    "    # Apply the Jacobi Rotation Method\n",
    "    eigenvalues, eigenvectors = jacobi_rotation_method(A)\n",
    "\n",
    "    print(\"Eigenvalues:\")\n",
    "    print(eigenvalues)\n",
    "    print(\"\\nEigenvectors:\")\n",
    "    print(eigenvectors)"
   ]
  },
  {
   "cell_type": "code",
   "execution_count": null,
   "id": "5e4be1c7-2f72-47bb-aa71-923e79a9624a",
   "metadata": {},
   "outputs": [],
   "source": []
  },
  {
   "cell_type": "code",
   "execution_count": null,
   "id": "f4d6bf23-68c3-4ec7-a258-c7f469b6bdab",
   "metadata": {},
   "outputs": [],
   "source": []
  }
 ],
 "metadata": {
  "kernelspec": {
   "display_name": "Python 3 (ipykernel)",
   "language": "python",
   "name": "python3"
  },
  "language_info": {
   "codemirror_mode": {
    "name": "ipython",
    "version": 3
   },
   "file_extension": ".py",
   "mimetype": "text/x-python",
   "name": "python",
   "nbconvert_exporter": "python",
   "pygments_lexer": "ipython3",
   "version": "3.12.4"
  }
 },
 "nbformat": 4,
 "nbformat_minor": 5
}
